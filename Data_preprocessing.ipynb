{
 "cells": [
  {
   "cell_type": "code",
   "execution_count": 1,
   "metadata": {},
   "outputs": [],
   "source": [
    "import pandas as pd\n",
    "import numpy as np"
   ]
  },
  {
   "cell_type": "code",
   "execution_count": 5,
   "metadata": {},
   "outputs": [
    {
     "name": "stdout",
     "output_type": "stream",
     "text": [
      "[[1 'Sunny\\xa0' 'Warm\\xa0' 'Normal\\xa0' 'Strong\\xa0' 'Warm\\xa0'\n",
      "  'Same\\xa0']\n",
      " [2 'Sunny\\xa0' 'Warm\\xa0' 'High\\xa0' 'Strong\\xa0' 'Warm\\xa0' 'Same\\xa0']\n",
      " [3 'Rainy\\xa0' 'Cold\\xa0' 'High\\xa0' 'Strong\\xa0' 'Warm\\xa0'\n",
      "  'Change\\xa0']\n",
      " [4 'Sunny\\xa0' 'Warm\\xa0' 'High\\xa0' 'Strong\\xa0' 'Cool\\xa0'\n",
      "  'Change\\xa0']]\n"
     ]
    }
   ],
   "source": [
    "d = pd.read_csv(\"data.csv\") \n",
    "a = np.array(d)[:,:-1] \n",
    "print(a)"
   ]
  },
  {
   "cell_type": "code",
   "execution_count": 6,
   "metadata": {},
   "outputs": [
    {
     "name": "stdout",
     "output_type": "stream",
     "text": [
      "['Yes' 'Yes' 'No' 'Yes']\n"
     ]
    }
   ],
   "source": [
    "t = np.array(d)[:,-1] \n",
    "print(t)"
   ]
  },
  {
   "cell_type": "code",
   "execution_count": 10,
   "metadata": {},
   "outputs": [
    {
     "name": "stdout",
     "output_type": "stream",
     "text": [
      "[1 'Sunny\\xa0' 'Warm\\xa0' 'Normal\\xa0' 'Strong\\xa0' 'Warm\\xa0' 'Same\\xa0']\n"
     ]
    }
   ],
   "source": [
    "def fun(c,t): \n",
    " for i, val in enumerate(t): \n",
    "    if val == \"Yes\": \n",
    "        specific_hypothesis = c[i].copy() \n",
    "        break \n",
    "  \n",
    " for i, val in enumerate(c): \n",
    "    if t[i] == \"Yes\": \n",
    "        for x in range(len(specific_hypothesis)): \n",
    "            if val[x] != specific_hypothesis[x]: \n",
    "                specific_hypothesis[x] = '?' \n",
    "            else: \n",
    "                pass  \n",
    "    return specific_hypothesis \n",
    "print(fun(a,t))"
   ]
  },
  {
   "cell_type": "code",
   "execution_count": 11,
   "metadata": {},
   "outputs": [],
   "source": [
    "import csv"
   ]
  },
  {
   "cell_type": "code",
   "execution_count": 12,
   "metadata": {},
   "outputs": [],
   "source": [
    "with open(\"data.csv\") as f:\n",
    "    csv_file=csv.reader(f)\n",
    "    data=list(csv_file)"
   ]
  },
  {
   "cell_type": "code",
   "execution_count": 13,
   "metadata": {},
   "outputs": [],
   "source": [
    "s=data[1][:-1]\n",
    "g=[['?' for i in range(len(s))] for j in range(len(s))]"
   ]
  },
  {
   "cell_type": "code",
   "execution_count": 15,
   "metadata": {},
   "outputs": [
    {
     "name": "stdout",
     "output_type": "stream",
     "text": [
      "1\n",
      "2\n",
      "3\n",
      "4\n",
      "5\n"
     ]
    }
   ],
   "source": [
    "for i in data:\n",
    "    if i[-1]==\"Yes\":\n",
    "        for j in range(len(s)):\n",
    "            if i[j]!=s[j]:\n",
    "                s[j]='?'\n",
    "                g[j][j]='?'\n",
    "        \n",
    "    elif i[-1]==\"No\":\n",
    "        for j in range(len(s)):\n",
    "            if i[j]!=s[j]:\n",
    "                g[j][j]=s[j]\n",
    "            else:\n",
    "                g[j][j]=\"?\"\n",
    "    print(data.index(i)+1)\n",
    "    "
   ]
  },
  {
   "cell_type": "code",
   "execution_count": 16,
   "metadata": {},
   "outputs": [
    {
     "name": "stdout",
     "output_type": "stream",
     "text": [
      "['?', 'SunnyÂ\\xa0', 'WarmÂ\\xa0', '?', 'StrongÂ\\xa0', '?', '?']\n"
     ]
    }
   ],
   "source": [
    "print(s)"
   ]
  },
  {
   "cell_type": "code",
   "execution_count": 17,
   "metadata": {},
   "outputs": [
    {
     "name": "stdout",
     "output_type": "stream",
     "text": [
      "[['?', '?', '?', '?', '?', '?', '?'], ['?', 'SunnyÂ\\xa0', '?', '?', '?', '?', '?'], ['?', '?', 'WarmÂ\\xa0', '?', '?', '?', '?'], ['?', '?', '?', '?', '?', '?', '?'], ['?', '?', '?', '?', '?', '?', '?'], ['?', '?', '?', '?', '?', '?', '?'], ['?', '?', '?', '?', '?', '?', '?']]\n"
     ]
    }
   ],
   "source": [
    "print(g)"
   ]
  },
  {
   "cell_type": "code",
   "execution_count": 18,
   "metadata": {},
   "outputs": [
    {
     "name": "stdout",
     "output_type": "stream",
     "text": [
      "['?', 'SunnyÂ\\xa0', 'WarmÂ\\xa0', '?', 'StrongÂ\\xa0', '?', '?']\n"
     ]
    }
   ],
   "source": [
    "gh=[]\n",
    "for i in g:\n",
    "    for j in i:\n",
    "        if j!='?':\n",
    "            gh.append(i)\n",
    "            break\n",
    "print(s)"
   ]
  },
  {
   "cell_type": "code",
   "execution_count": 19,
   "metadata": {},
   "outputs": [
    {
     "name": "stdout",
     "output_type": "stream",
     "text": [
      "[['?', 'SunnyÂ\\xa0', '?', '?', '?', '?', '?'], ['?', '?', 'WarmÂ\\xa0', '?', '?', '?', '?']]\n"
     ]
    }
   ],
   "source": [
    "print(gh)"
   ]
  },
  {
   "cell_type": "code",
   "execution_count": 2,
   "metadata": {},
   "outputs": [
    {
     "name": "stdout",
     "output_type": "stream",
     "text": [
      "           price $(xi)  160  280  180  200  260  240  220  170\n",
      "0  Sales quantity (yi)  125  120  104   85   40   80   75   79\n",
      "['Sales quantity (yi)']\n",
      "[79]\n"
     ]
    },
    {
     "data": {
      "image/png": "[encoded data removed]",
      "text/plain": [
       "<Figure size 432x288 with 1 Axes>"
      ]
     },
     "metadata": {
      "needs_background": "light"
     },
     "output_type": "display_data"
    }
   ],
   "source": [
    "import pandas as pd\n",
    "import numpy as np\n",
    "import matplotlib.pyplot as plt\n",
    "import seaborn as sns\n",
    "\n",
    "data2 = pd.read_csv(\"price_data.csv\")\n",
    "print(data2)\n",
    "\n",
    "x = np.array(data2)[:,0]\n",
    "y = np.array(data2)[:,-1]\n",
    "print(x)\n",
    "print(y)\n",
    "\n",
    "plt.title(\"Relationship Bewtween Price  & Sales Quantity\")\n",
    "sns.regplot(x=x, y=y)\n",
    "plt.show()"
   ]
  },
  {
   "cell_type": "code",
   "execution_count": 42,
   "metadata": {},
   "outputs": [],
   "source": [
    "import pandas as pd\n",
    "from pandas import DataFrame "
   ]
  },
  {
   "cell_type": "code",
   "execution_count": 43,
   "metadata": {},
   "outputs": [
    {
     "name": "stdout",
     "output_type": "stream",
     "text": [
      "   Example     Sky   Temp  Humidity     Wind  Water  Forecast  EnjoySport\n",
      "0         1  Sunny   Warm    Normal   Strong   Warm      Same         Yes\n",
      "1         2  Sunny   Warm      High   Strong   Warm      Same         Yes\n",
      "2         3  Rainy   Cold      High   Strong   Warm    Change          No\n",
      "3         4  Sunny   Warm      High   Strong   Cool    Change         Yes\n"
     ]
    }
   ],
   "source": [
    "df = pd.read_csv('data.csv')\n",
    "print( df)"
   ]
  },
  {
   "cell_type": "code",
   "execution_count": 45,
   "metadata": {},
   "outputs": [
    {
     "name": "stdout",
     "output_type": "stream",
     "text": [
      "0.8112781244591328\n"
     ]
    }
   ],
   "source": [
    "def entropy(probs):  \n",
    "    import math\n",
    "\n",
    "    return sum( [-prob*math.log(prob, 2) for prob in probs] )\n",
    "    \n",
    "def entropy_of_list(a_list):\n",
    "    from collections import Counter\n",
    "    cnt = Counter(x for x in a_list)\n",
    "    num_instances = len(a_list)\n",
    "    probs = [x / num_instances for x in cnt.values()]\n",
    "    return entropy(probs)\n",
    "\n",
    "total_entropy = entropy_of_list(df['EnjoySport'])\n",
    "\n",
    "print(total_entropy)"
   ]
  },
  {
   "cell_type": "code",
   "execution_count": null,
   "metadata": {},
   "outputs": [],
   "source": []
  }
 ],
 "metadata": {
  "kernelspec": {
   "display_name": "Python 3",
   "language": "python",
   "name": "python3"
  },
  "language_info": {
   "codemirror_mode": {
    "name": "ipython",
    "version": 3
   },
   "file_extension": ".py",
   "mimetype": "text/x-python",
   "name": "python",
   "nbconvert_exporter": "python",
   "pygments_lexer": "ipython3",
   "version": "3.9.6 (tags/v3.9.6:db3ff76, Jun 28 2021, 15:26:21) [MSC v.1929 64 bit (AMD64)]"
  },
  "orig_nbformat": 4,
  "vscode": {
   "interpreter": {
    "hash": "08bc7931e60667706cfcb3f2432ecdeae3551193b2c9aea674f4da21764fd63e"
   }
  }
 },
 "nbformat": 4,
 "nbformat_minor": 2
}
